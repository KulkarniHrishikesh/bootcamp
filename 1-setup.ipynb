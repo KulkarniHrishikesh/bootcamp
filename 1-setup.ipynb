{
 "cells": [
  {
   "cell_type": "markdown",
   "id": "2c160c9c-a445-493e-9948-7ba507c606fb",
   "metadata": {},
   "source": [
    "# Running bash commands from your notebook\n",
    "\n",
    "First, let's install all the dependencies. \n",
    "\n",
    "You can directly run bash commands in your notebook, by either prefixing your commands with an exclamation mark `!`:\n",
    "```ipython\n",
    "[1] !echo \"this is a bash command\"\n",
    "this is a bash command\n",
    "\n",
    "[2] !ls\n",
    "/home/user/git_repos/FNO_workshop\n",
    "```\n",
    "\n",
    "or by starting your cell with the `%%bash` ipython magic. \n",
    "\n",
    "Let's see a simple example:"
   ]
  },
  {
   "cell_type": "code",
   "execution_count": 1,
   "id": "24e20734-97e5-4295-9952-d67ac36b63a0",
   "metadata": {},
   "outputs": [
    {
     "name": "stdout",
     "output_type": "stream",
     "text": [
      "hello\n",
      "world\n"
     ]
    }
   ],
   "source": [
    "%%bash\n",
    "\n",
    "for var in hello world\n",
    "do\n",
    "  echo ${var} \n",
    "done"
   ]
  },
  {
   "cell_type": "markdown",
   "id": "5b47acb6-a558-40bf-bd76-872941fdf879",
   "metadata": {},
   "source": [
    "# Installing the dependencies\n",
    "\n",
    "Now, let's install the dependencies."
   ]
  },
  {
   "cell_type": "code",
   "execution_count": 2,
   "id": "bcce1c3e-b4d7-44ea-8b98-bce1f04182cf",
   "metadata": {},
   "outputs": [
    {
     "name": "stderr",
     "output_type": "stream",
     "text": [
      "Cloning into 'tensorly'...\n"
     ]
    },
    {
     "name": "stdout",
     "output_type": "stream",
     "text": [
      "Obtaining file:///home/hrishikesh/bootcamp/temp/tensorly\n",
      "Requirement already satisfied: numpy in /home/hrishikesh/FNO_env/lib/python3.8/site-packages (from tensorly==0.8.1) (1.24.4)\n",
      "Requirement already satisfied: scipy in /home/hrishikesh/FNO_env/lib/python3.8/site-packages (from tensorly==0.8.1) (1.10.1)\n",
      "Installing collected packages: tensorly\n",
      "  Attempting uninstall: tensorly\n",
      "    Found existing installation: tensorly 0.8.1\n",
      "    Uninstalling tensorly-0.8.1:\n",
      "      Successfully uninstalled tensorly-0.8.1\n",
      "  Running setup.py develop for tensorly\n",
      "Successfully installed tensorly\n"
     ]
    },
    {
     "name": "stderr",
     "output_type": "stream",
     "text": [
      "Cloning into 'torch'...\n"
     ]
    },
    {
     "name": "stdout",
     "output_type": "stream",
     "text": [
      "Obtaining file:///home/hrishikesh/bootcamp/temp/torch\n",
      "Requirement already satisfied: numpy in /home/hrishikesh/FNO_env/lib/python3.8/site-packages (from tensorly-torch==0.4.0) (1.24.4)\n",
      "Requirement already satisfied: scipy in /home/hrishikesh/FNO_env/lib/python3.8/site-packages (from tensorly-torch==0.4.0) (1.10.1)\n",
      "Installing collected packages: tensorly-torch\n",
      "  Attempting uninstall: tensorly-torch\n",
      "    Found existing installation: tensorly-torch 0.4.0\n",
      "    Uninstalling tensorly-torch-0.4.0:\n",
      "      Successfully uninstalled tensorly-torch-0.4.0\n",
      "  Running setup.py develop for tensorly-torch\n",
      "Successfully installed tensorly-torch\n"
     ]
    },
    {
     "name": "stderr",
     "output_type": "stream",
     "text": [
      "Cloning into 'neuraloperator'...\n"
     ]
    },
    {
     "name": "stdout",
     "output_type": "stream",
     "text": [
      "Obtaining file:///home/hrishikesh/bootcamp/temp/neuraloperator\n",
      "  Installing build dependencies: started\n",
      "  Installing build dependencies: finished with status 'done'\n",
      "  Getting requirements to build wheel: started\n",
      "  Getting requirements to build wheel: finished with status 'done'\n",
      "    Preparing wheel metadata: started\n",
      "    Preparing wheel metadata: finished with status 'done'\n",
      "Requirement already satisfied: opt-einsum in /home/hrishikesh/FNO_env/lib/python3.8/site-packages (from neuraloperator==0.3.0) (3.3.0)\n",
      "Requirement already satisfied: black in /home/hrishikesh/FNO_env/lib/python3.8/site-packages (from neuraloperator==0.3.0) (23.12.0)\n",
      "Requirement already satisfied: tensorly in /home/hrishikesh/bootcamp/temp/tensorly (from neuraloperator==0.3.0) (0.8.1)\n",
      "Requirement already satisfied: configmypy in /home/hrishikesh/FNO_env/lib/python3.8/site-packages (from neuraloperator==0.3.0) (0.1.0)\n",
      "Requirement already satisfied: pytest in /home/hrishikesh/FNO_env/lib/python3.8/site-packages (from neuraloperator==0.3.0) (7.4.3)\n",
      "Requirement already satisfied: numpy in /home/hrishikesh/FNO_env/lib/python3.8/site-packages (from neuraloperator==0.3.0) (1.24.4)\n",
      "Requirement already satisfied: tensorly-torch in /home/hrishikesh/bootcamp/temp/torch (from neuraloperator==0.3.0) (0.4.0)\n",
      "Requirement already satisfied: platformdirs>=2 in /home/hrishikesh/FNO_env/lib/python3.8/site-packages (from black->neuraloperator==0.3.0) (4.1.0)\n",
      "Requirement already satisfied: click>=8.0.0 in /home/hrishikesh/FNO_env/lib/python3.8/site-packages (from black->neuraloperator==0.3.0) (8.1.7)\n",
      "Requirement already satisfied: packaging>=22.0 in /home/hrishikesh/FNO_env/lib/python3.8/site-packages (from black->neuraloperator==0.3.0) (23.2)\n",
      "Requirement already satisfied: typing-extensions>=4.0.1; python_version < \"3.11\" in /home/hrishikesh/FNO_env/lib/python3.8/site-packages (from black->neuraloperator==0.3.0) (4.9.0)\n",
      "Requirement already satisfied: tomli>=1.1.0; python_version < \"3.11\" in /home/hrishikesh/FNO_env/lib/python3.8/site-packages (from black->neuraloperator==0.3.0) (2.0.1)\n",
      "Requirement already satisfied: aiohttp>=3.7.4; sys_platform != \"win32\" or implementation_name != \"pypy\" and extra == \"d\" in /home/hrishikesh/FNO_env/lib/python3.8/site-packages (from black->neuraloperator==0.3.0) (3.9.1)\n",
      "Requirement already satisfied: mypy-extensions>=0.4.3 in /home/hrishikesh/FNO_env/lib/python3.8/site-packages (from black->neuraloperator==0.3.0) (1.0.0)\n",
      "Requirement already satisfied: pathspec>=0.9.0 in /home/hrishikesh/FNO_env/lib/python3.8/site-packages (from black->neuraloperator==0.3.0) (0.12.1)\n",
      "Requirement already satisfied: scipy in /home/hrishikesh/FNO_env/lib/python3.8/site-packages (from tensorly->neuraloperator==0.3.0) (1.10.1)\n",
      "Requirement already satisfied: pytest-mock in /home/hrishikesh/FNO_env/lib/python3.8/site-packages (from configmypy->neuraloperator==0.3.0) (3.12.0)\n",
      "Requirement already satisfied: ruamel.yaml in /home/hrishikesh/FNO_env/lib/python3.8/site-packages (from configmypy->neuraloperator==0.3.0) (0.18.5)\n",
      "Requirement already satisfied: iniconfig in /home/hrishikesh/FNO_env/lib/python3.8/site-packages (from pytest->neuraloperator==0.3.0) (2.0.0)\n",
      "Requirement already satisfied: pluggy<2.0,>=0.12 in /home/hrishikesh/FNO_env/lib/python3.8/site-packages (from pytest->neuraloperator==0.3.0) (1.3.0)\n",
      "Requirement already satisfied: exceptiongroup>=1.0.0rc8; python_version < \"3.11\" in /home/hrishikesh/FNO_env/lib/python3.8/site-packages (from pytest->neuraloperator==0.3.0) (1.2.0)\n",
      "Requirement already satisfied: yarl<2.0,>=1.0 in /home/hrishikesh/FNO_env/lib/python3.8/site-packages (from aiohttp>=3.7.4; sys_platform != \"win32\" or implementation_name != \"pypy\" and extra == \"d\"->black->neuraloperator==0.3.0) (1.9.4)\n",
      "Requirement already satisfied: frozenlist>=1.1.1 in /home/hrishikesh/FNO_env/lib/python3.8/site-packages (from aiohttp>=3.7.4; sys_platform != \"win32\" or implementation_name != \"pypy\" and extra == \"d\"->black->neuraloperator==0.3.0) (1.4.1)\n",
      "Requirement already satisfied: multidict<7.0,>=4.5 in /home/hrishikesh/FNO_env/lib/python3.8/site-packages (from aiohttp>=3.7.4; sys_platform != \"win32\" or implementation_name != \"pypy\" and extra == \"d\"->black->neuraloperator==0.3.0) (6.0.4)\n",
      "Requirement already satisfied: attrs>=17.3.0 in /home/hrishikesh/FNO_env/lib/python3.8/site-packages (from aiohttp>=3.7.4; sys_platform != \"win32\" or implementation_name != \"pypy\" and extra == \"d\"->black->neuraloperator==0.3.0) (23.1.0)\n",
      "Requirement already satisfied: async-timeout<5.0,>=4.0; python_version < \"3.11\" in /home/hrishikesh/FNO_env/lib/python3.8/site-packages (from aiohttp>=3.7.4; sys_platform != \"win32\" or implementation_name != \"pypy\" and extra == \"d\"->black->neuraloperator==0.3.0) (4.0.3)\n",
      "Requirement already satisfied: aiosignal>=1.1.2 in /home/hrishikesh/FNO_env/lib/python3.8/site-packages (from aiohttp>=3.7.4; sys_platform != \"win32\" or implementation_name != \"pypy\" and extra == \"d\"->black->neuraloperator==0.3.0) (1.3.1)\n",
      "Requirement already satisfied: ruamel.yaml.clib>=0.2.7; platform_python_implementation == \"CPython\" and python_version < \"3.13\" in /home/hrishikesh/FNO_env/lib/python3.8/site-packages (from ruamel.yaml->configmypy->neuraloperator==0.3.0) (0.2.8)\n",
      "Requirement already satisfied: idna>=2.0 in /home/hrishikesh/FNO_env/lib/python3.8/site-packages (from yarl<2.0,>=1.0->aiohttp>=3.7.4; sys_platform != \"win32\" or implementation_name != \"pypy\" and extra == \"d\"->black->neuraloperator==0.3.0) (3.6)\n",
      "Installing collected packages: neuraloperator\n",
      "  Attempting uninstall: neuraloperator\n",
      "    Found existing installation: neuraloperator 0.3.0\n",
      "    Uninstalling neuraloperator-0.3.0:\n",
      "      Successfully uninstalled neuraloperator-0.3.0\n",
      "  Running setup.py develop for neuraloperator\n",
      "Successfully installed neuraloperator\n"
     ]
    }
   ],
   "source": [
    "%%bash \n",
    "\n",
    "target_folder='./temp'\n",
    "[ -d ${target_folder} ] || mkdir -p ${target_folder}\n",
    "cd temp\n",
    "\n",
    "git clone https://github.com/tensorly/tensorly \n",
    "cd tensorly\n",
    "python -m pip install -e .\n",
    "cd ..\n",
    "\n",
    "git clone https://github.com/tensorly/torch\n",
    "cd torch\n",
    "python -m pip install -e .\n",
    "cd ..\n",
    "\n",
    "git clone https://github.com/NeuralOperator/neuraloperator\n",
    "cd neuraloperator\n",
    "python -m pip install -e ."
   ]
  },
  {
   "cell_type": "code",
   "execution_count": 3,
   "id": "e0bb548e-6e98-4fac-935e-52a8115c4aac",
   "metadata": {},
   "outputs": [
    {
     "name": "stdout",
     "output_type": "stream",
     "text": [
      "Processing /home/hrishikesh/.cache/pip/wheels/0e/91/24/e76d33670e72d0ff13fe908a9f8e4eb8507c4c195898617aac/gpustat-1.1.1-py3-none-any.whl\n",
      "Collecting nvidia-ml-py>=11.450.129\n",
      "  Downloading nvidia_ml_py-12.535.133-py3-none-any.whl (37 kB)\n",
      "Requirement already satisfied: psutil>=5.6.0 in /home/hrishikesh/FNO_env/lib/python3.8/site-packages (from gpustat) (5.9.7)\n",
      "Collecting blessed>=1.17.1\n",
      "  Downloading blessed-1.20.0-py2.py3-none-any.whl (58 kB)\n",
      "\u001b[K     |████████████████████████████████| 58 kB 937 kB/s eta 0:00:01\n",
      "\u001b[?25hRequirement already satisfied: wcwidth>=0.1.4 in /home/hrishikesh/FNO_env/lib/python3.8/site-packages (from blessed>=1.17.1->gpustat) (0.2.13)\n",
      "Requirement already satisfied: six>=1.9.0 in /home/hrishikesh/FNO_env/lib/python3.8/site-packages (from blessed>=1.17.1->gpustat) (1.16.0)\n",
      "Installing collected packages: nvidia-ml-py, blessed, gpustat\n",
      "Successfully installed blessed-1.20.0 gpustat-1.1.1 nvidia-ml-py-12.535.133\n",
      "Collecting gdown\n",
      "  Downloading gdown-5.1.0-py3-none-any.whl (17 kB)\n",
      "Requirement already satisfied: filelock in /home/hrishikesh/FNO_env/lib/python3.8/site-packages (from gdown) (3.13.1)\n",
      "Requirement already satisfied: requests[socks] in /home/hrishikesh/FNO_env/lib/python3.8/site-packages (from gdown) (2.31.0)\n",
      "Requirement already satisfied: beautifulsoup4 in /home/hrishikesh/FNO_env/lib/python3.8/site-packages (from gdown) (4.12.3)\n",
      "Collecting tqdm\n",
      "  Downloading tqdm-4.66.2-py3-none-any.whl (78 kB)\n",
      "\u001b[K     |████████████████████████████████| 78 kB 986 kB/s eta 0:00:01\n",
      "\u001b[?25hRequirement already satisfied: urllib3<3,>=1.21.1 in /home/hrishikesh/FNO_env/lib/python3.8/site-packages (from requests[socks]->gdown) (2.1.0)\n",
      "Requirement already satisfied: idna<4,>=2.5 in /home/hrishikesh/FNO_env/lib/python3.8/site-packages (from requests[socks]->gdown) (3.6)\n",
      "Requirement already satisfied: certifi>=2017.4.17 in /home/hrishikesh/FNO_env/lib/python3.8/site-packages (from requests[socks]->gdown) (2023.11.17)\n",
      "Requirement already satisfied: charset-normalizer<4,>=2 in /home/hrishikesh/FNO_env/lib/python3.8/site-packages (from requests[socks]->gdown) (3.3.2)\n",
      "Collecting PySocks!=1.5.7,>=1.5.6; extra == \"socks\"\n",
      "  Downloading PySocks-1.7.1-py3-none-any.whl (16 kB)\n",
      "Requirement already satisfied: soupsieve>1.2 in /home/hrishikesh/FNO_env/lib/python3.8/site-packages (from beautifulsoup4->gdown) (2.5)\n",
      "Installing collected packages: tqdm, gdown, PySocks\n",
      "Successfully installed PySocks-1.7.1 gdown-5.1.0 tqdm-4.66.2\n",
      "Requirement already satisfied: opt-einsum in /home/hrishikesh/FNO_env/lib/python3.8/site-packages (3.3.0)\n",
      "Requirement already satisfied: numpy>=1.7 in /home/hrishikesh/FNO_env/lib/python3.8/site-packages (from opt-einsum) (1.24.4)\n",
      "Requirement already satisfied: h5py in /home/hrishikesh/FNO_env/lib/python3.8/site-packages (3.10.0)\n",
      "Requirement already satisfied: wandb in /home/hrishikesh/FNO_env/lib/python3.8/site-packages (0.16.1)\n",
      "Requirement already satisfied: ruamel.yaml in /home/hrishikesh/FNO_env/lib/python3.8/site-packages (0.18.5)\n",
      "Requirement already satisfied: zarr in /home/hrishikesh/FNO_env/lib/python3.8/site-packages (2.16.1)\n",
      "Requirement already satisfied: numpy>=1.17.3 in /home/hrishikesh/FNO_env/lib/python3.8/site-packages (from h5py) (1.24.4)\n",
      "Requirement already satisfied: docker-pycreds>=0.4.0 in /home/hrishikesh/FNO_env/lib/python3.8/site-packages (from wandb) (0.4.0)\n",
      "Requirement already satisfied: PyYAML in /home/hrishikesh/FNO_env/lib/python3.8/site-packages (from wandb) (6.0.1)\n",
      "Requirement already satisfied: GitPython!=3.1.29,>=1.0.0 in /home/hrishikesh/FNO_env/lib/python3.8/site-packages (from wandb) (3.1.40)\n",
      "Requirement already satisfied: setproctitle in /home/hrishikesh/FNO_env/lib/python3.8/site-packages (from wandb) (1.3.3)\n",
      "Requirement already satisfied: typing-extensions; python_version < \"3.10\" in /home/hrishikesh/FNO_env/lib/python3.8/site-packages (from wandb) (4.9.0)\n",
      "Requirement already satisfied: setuptools in /home/hrishikesh/FNO_env/lib/python3.8/site-packages (from wandb) (44.0.0)\n",
      "Requirement already satisfied: Click!=8.0.0,>=7.1 in /home/hrishikesh/FNO_env/lib/python3.8/site-packages (from wandb) (8.1.7)\n",
      "Requirement already satisfied: protobuf!=4.21.0,<5,>=3.12.0; python_version < \"3.9\" and sys_platform == \"linux\" in /home/hrishikesh/FNO_env/lib/python3.8/site-packages (from wandb) (4.25.1)\n",
      "Requirement already satisfied: appdirs>=1.4.3 in /home/hrishikesh/FNO_env/lib/python3.8/site-packages (from wandb) (1.4.4)\n",
      "Requirement already satisfied: psutil>=5.0.0 in /home/hrishikesh/FNO_env/lib/python3.8/site-packages (from wandb) (5.9.7)\n",
      "Requirement already satisfied: requests<3,>=2.0.0 in /home/hrishikesh/FNO_env/lib/python3.8/site-packages (from wandb) (2.31.0)\n",
      "Requirement already satisfied: sentry-sdk>=1.0.0 in /home/hrishikesh/FNO_env/lib/python3.8/site-packages (from wandb) (1.39.1)\n",
      "Requirement already satisfied: ruamel.yaml.clib>=0.2.7; platform_python_implementation == \"CPython\" and python_version < \"3.13\" in /home/hrishikesh/FNO_env/lib/python3.8/site-packages (from ruamel.yaml) (0.2.8)\n",
      "Requirement already satisfied: asciitree in /home/hrishikesh/FNO_env/lib/python3.8/site-packages (from zarr) (0.3.3)\n",
      "Requirement already satisfied: numcodecs>=0.10.0 in /home/hrishikesh/FNO_env/lib/python3.8/site-packages (from zarr) (0.12.1)\n",
      "Requirement already satisfied: fasteners in /home/hrishikesh/FNO_env/lib/python3.8/site-packages (from zarr) (0.19)\n",
      "Requirement already satisfied: six>=1.4.0 in /home/hrishikesh/FNO_env/lib/python3.8/site-packages (from docker-pycreds>=0.4.0->wandb) (1.16.0)\n",
      "Requirement already satisfied: gitdb<5,>=4.0.1 in /home/hrishikesh/FNO_env/lib/python3.8/site-packages (from GitPython!=3.1.29,>=1.0.0->wandb) (4.0.11)\n",
      "Requirement already satisfied: urllib3<3,>=1.21.1 in /home/hrishikesh/FNO_env/lib/python3.8/site-packages (from requests<3,>=2.0.0->wandb) (2.1.0)\n",
      "Requirement already satisfied: charset-normalizer<4,>=2 in /home/hrishikesh/FNO_env/lib/python3.8/site-packages (from requests<3,>=2.0.0->wandb) (3.3.2)\n",
      "Requirement already satisfied: certifi>=2017.4.17 in /home/hrishikesh/FNO_env/lib/python3.8/site-packages (from requests<3,>=2.0.0->wandb) (2023.11.17)\n",
      "Requirement already satisfied: idna<4,>=2.5 in /home/hrishikesh/FNO_env/lib/python3.8/site-packages (from requests<3,>=2.0.0->wandb) (3.6)\n",
      "Requirement already satisfied: smmap<6,>=3.0.1 in /home/hrishikesh/FNO_env/lib/python3.8/site-packages (from gitdb<5,>=4.0.1->GitPython!=3.1.29,>=1.0.0->wandb) (5.0.1)\n"
     ]
    }
   ],
   "source": [
    "!pip install gpustat\n",
    "!pip install gdown\n",
    "!pip install opt-einsum\n",
    "!pip install h5py wandb ruamel.yaml zarr"
   ]
  },
  {
   "attachments": {},
   "cell_type": "markdown",
   "id": "f4ed3b9d-fffd-4d5d-852c-7dc95dad086f",
   "metadata": {},
   "source": [
    "# Prepare data "
   ]
  },
  {
   "cell_type": "code",
   "execution_count": 4,
   "id": "3a2484ab-0f02-45c9-acce-cb0bbe803dbb",
   "metadata": {},
   "outputs": [],
   "source": [
    "import os\n",
    "import requests\n",
    "import hashlib\n",
    "url_dict = {\n",
    "    'darcyflow-1':'https://caltech-pde-data.s3.us-west-2.amazonaws.com/piececonst_r241_N1024_smooth1.mat', \n",
    "    'darcyflow-2': 'https://caltech-pde-data.s3.us-west-2.amazonaws.com/piececonst_r241_N1024_smooth2.mat', \n",
    "    'Navier-Stokes': 'https://caltech-pde-data.s3.us-west-2.amazonaws.com/ns_V1e-3_N5000_T50.mat', \n",
    "    'darcy-test-32': 'https://caltech-pde-data.s3.us-west-2.amazonaws.com/darcy_test_32.pt', \n",
    "    'darcy-test-64': 'https://caltech-pde-data.s3.us-west-2.amazonaws.com/darcy_test_64.pt', \n",
    "    'darcy-train-32': 'https://caltech-pde-data.s3.us-west-2.amazonaws.com/darcy_train_32.pt', \n",
    "    'darcy-train-64': 'https://caltech-pde-data.s3.us-west-2.amazonaws.com/darcy_train_64.pt', \n",
    "    'KF-Re100': 'https://caltech-pde-data.s3.us-west-2.amazonaws.com/KFvorticity_Re100_N50_T500.npy'\n",
    "}\n",
    "\n",
    "chksum_dict = {\n",
    "    'piececonst_r241_N1024_smooth1.mat': '5ab3edf67bb5fd6d49ebf308cd79ed70340106d1a18af8a8439d3e7fc8e82d21', \n",
    "    'piececonst_r241_N1024_smooth2.mat': '51a818ed2e4f08752eea5d3f137f0e00271589c48297a46c641382a51eb80acf', \n",
    "    'ns_V1e-3_N5000_T50.mat': '78b8d9e83d767dc7050fb8145ee7e7f11e2d18d325bff9abc7f108ec3292ee78', \n",
    "    'darcy_train_64.pt': 'c05770239c91ebf093ea971e4d724008a49c9f21b5363fcf182e80499fae7fb4', \n",
    "    'darcy_train_32.pt': 'b8d8095d3832ed67f55b4a8fcb1970618b4ca2c6fc91aee2fe49b9c9b2c071ae', \n",
    "    'darcy_test_64.pt': '2220bb25c920109e9565a7fc07b675de16d124d563996f6e7256e2faa1fde24f', \n",
    "    'darcy_test_32.pt': '65137910193a553295c26e3d8273761daa44766597f4b34cfb12299fc6e3f311', \n",
    "    'KFvorticity_Re100_N50_T500.npy': '55f5af44a732a7843d631ace6384ac75c787d4fb36765b2e83ce1febb52d5463'\n",
    "}\n",
    "\n",
    "def download_file(url, file_path):\n",
    "    with requests.get(url, stream=True) as r:\n",
    "        r.raise_for_status()\n",
    "        with open(file_path, 'wb') as f:\n",
    "            for chunk in r.iter_content(chunk_size=1024 * 1024 * 1024):\n",
    "                f.write(chunk)\n",
    "    print('Complete')\n"
   ]
  },
  {
   "attachments": {},
   "cell_type": "markdown",
   "id": "d36ba93d",
   "metadata": {},
   "source": [
    "## Download Darcy datasets"
   ]
  },
  {
   "cell_type": "code",
   "execution_count": 5,
   "id": "70b2c9d0-990d-43fd-9a80-7af9dbc8dd64",
   "metadata": {},
   "outputs": [
    {
     "name": "stdout",
     "output_type": "stream",
     "text": [
      "Downloading https://caltech-pde-data.s3.us-west-2.amazonaws.com/darcy_train_64.pt...\n",
      "Complete\n",
      "Downloading https://caltech-pde-data.s3.us-west-2.amazonaws.com/darcy_train_32.pt...\n",
      "Complete\n",
      "Downloading https://caltech-pde-data.s3.us-west-2.amazonaws.com/darcy_test_64.pt...\n",
      "Complete\n",
      "Downloading https://caltech-pde-data.s3.us-west-2.amazonaws.com/darcy_test_32.pt...\n",
      "Complete\n"
     ]
    }
   ],
   "source": [
    "data_root = 'data'\n",
    "darcy_dir = os.path.join(data_root, 'darcy_flow')\n",
    "os.makedirs(darcy_dir, exist_ok=True)\n",
    "\n",
    "day1_data = ['darcy-train-64', 'darcy-train-32', 'darcy-test-64', 'darcy-test-32']\n",
    "\n",
    "for key in day1_data:\n",
    "    value = url_dict[key]\n",
    "    print(f'Downloading {value}...')\n",
    "    filename = os.path.basename(value)\n",
    "    save_path = os.path.join(darcy_dir, filename)\n",
    "    download_file(url=value, file_path=save_path)\n"
   ]
  },
  {
   "cell_type": "code",
   "execution_count": 6,
   "id": "db98503a",
   "metadata": {},
   "outputs": [
    {
     "name": "stdout",
     "output_type": "stream",
     "text": [
      "darcy_test_32.pt verified!\n",
      "darcy_train_64.pt verified!\n",
      "darcy_test_64.pt verified!\n",
      "darcy_train_32.pt verified!\n"
     ]
    }
   ],
   "source": [
    "# verify data integrity\n",
    "for data_file in os.listdir(darcy_dir):\n",
    "    data_path = os.path.join(darcy_dir, data_file)\n",
    "    with open(data_path, 'rb') as f:\n",
    "        data = f.read()\n",
    "        sha256 = hashlib.sha256(data).hexdigest()\n",
    "        if sha256 == chksum_dict[data_file]:\n",
    "            print(f'{data_file} verified!')\n",
    "        else:\n",
    "            print(f'{data_file} verfication failed!')"
   ]
  },
  {
   "attachments": {},
   "cell_type": "markdown",
   "id": "6a5cc551",
   "metadata": {},
   "source": [
    "### Download KF datasets (2d NS)"
   ]
  },
  {
   "cell_type": "code",
   "execution_count": 7,
   "id": "817f3d48",
   "metadata": {},
   "outputs": [
    {
     "name": "stdout",
     "output_type": "stream",
     "text": [
      "Downloading https://caltech-pde-data.s3.us-west-2.amazonaws.com/KFvorticity_Re100_N50_T500.npy to data/kf\n",
      "Complete\n"
     ]
    }
   ],
   "source": [
    "data_root = 'data'\n",
    "kf_dir = os.path.join(data_root, 'kf')\n",
    "os.makedirs(kf_dir, exist_ok=True)\n",
    "\n",
    "kf_data = ['KF-Re100']\n",
    "for key in kf_data:\n",
    "    value = url_dict[key]\n",
    "    print(f'Downloading {value} to {kf_dir}')\n",
    "    filename = os.path.basename(value)\n",
    "    save_path = os.path.join(kf_dir, filename)\n",
    "    download_file(url=value, file_path=save_path)"
   ]
  },
  {
   "cell_type": "code",
   "execution_count": 8,
   "id": "73acfd3d-23d4-4f02-9bc7-167438ac2de4",
   "metadata": {},
   "outputs": [
    {
     "name": "stdout",
     "output_type": "stream",
     "text": [
      "KFvorticity_Re100_N50_T500.npy verified!\n"
     ]
    }
   ],
   "source": [
    "for data_file in os.listdir(kf_dir):\n",
    "    data_path = os.path.join(kf_dir, data_file)\n",
    "    with open(data_path, 'rb') as f:\n",
    "        data = f.read()\n",
    "        sha256 = hashlib.sha256(data).hexdigest()\n",
    "        if sha256 == chksum_dict[data_file]:\n",
    "            print(f'{data_file} verified!')\n",
    "        else:\n",
    "            print(f'{data_file} verfication failed!')\n"
   ]
  }
 ],
 "metadata": {
  "kernelspec": {
   "display_name": "Python 3 (ipykernel)",
   "language": "python",
   "name": "python3"
  },
  "language_info": {
   "codemirror_mode": {
    "name": "ipython",
    "version": 3
   },
   "file_extension": ".py",
   "mimetype": "text/x-python",
   "name": "python",
   "nbconvert_exporter": "python",
   "pygments_lexer": "ipython3",
   "version": "3.8.10"
  },
  "vscode": {
   "interpreter": {
    "hash": "95d4b27ba6bfea4a66eebe0e0159b214d32a94d313a7f4c98bd9b87f5ee37cbe"
   }
  }
 },
 "nbformat": 4,
 "nbformat_minor": 5
}
